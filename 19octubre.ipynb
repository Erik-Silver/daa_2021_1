{
  "nbformat": 4,
  "nbformat_minor": 0,
  "metadata": {
    "colab": {
      "name": "19octubre.ipynb",
      "provenance": [],
      "authorship_tag": "ABX9TyOHhMFzVol0S6Ijfuu0MZ9D",
      "include_colab_link": true
    },
    "kernelspec": {
      "name": "python3",
      "display_name": "Python 3"
    }
  },
  "cells": [
    {
      "cell_type": "markdown",
      "metadata": {
        "id": "view-in-github",
        "colab_type": "text"
      },
      "source": [
        "<a href=\"https://colab.research.google.com/github/Erik-Silver/daa_2021_1/blob/master/19octubre.ipynb\" target=\"_parent\"><img src=\"https://colab.research.google.com/assets/colab-badge.svg\" alt=\"Open In Colab\"/></a>"
      ]
    },
    {
      "cell_type": "code",
      "metadata": {
        "id": "LhmMFmqHSG1a",
        "outputId": "feff0987-59c0-4229-a093-57de7324f70d",
        "colab": {
          "base_uri": "https://localhost:8080/",
          "height": 510
        }
      },
      "source": [
        "def ejemplo4(n):\n",
        "  count = 0\n",
        "  i = n\n",
        "  print(f\"Nivel 1: {i}\")\n",
        "  while i >= 1:\n",
        "    count += 1\n",
        "    print(f\"Nivel 2, contador: {count}\")\n",
        "    i = i //2\n",
        "  basura = 3+2\n",
        "  return count\n",
        "\n",
        "\n",
        "prueba = ejemplo4(10)\n",
        "print(f\"10 - Procesos: {prueba}\")\n",
        "prueba = ejemplo4(4)\n",
        "print(f\"10 - Procesos: {prueba}\")\n",
        "prueba = ejemplo4(8)\n",
        "print(f\"10 - Procesos: {prueba}\")\n",
        "prueba = ejemplo4(5)\n",
        "print(f\"10 - Procesos: {prueba}\")\n",
        "prueba = ejemplo4(20)\n",
        "print(f\"10 - Procesos: {prueba}\")"
      ],
      "execution_count": 7,
      "outputs": [
        {
          "output_type": "stream",
          "text": [
            "Nivel 1: 10\n",
            "Nivel 2, contador: 1\n",
            "Nivel 2, contador: 2\n",
            "Nivel 2, contador: 3\n",
            "Nivel 2, contador: 4\n",
            "10 - Procesos: 4\n",
            "Nivel 1: 4\n",
            "Nivel 2, contador: 1\n",
            "Nivel 2, contador: 2\n",
            "Nivel 2, contador: 3\n",
            "10 - Procesos: 3\n",
            "Nivel 1: 8\n",
            "Nivel 2, contador: 1\n",
            "Nivel 2, contador: 2\n",
            "Nivel 2, contador: 3\n",
            "Nivel 2, contador: 4\n",
            "10 - Procesos: 4\n",
            "Nivel 1: 5\n",
            "Nivel 2, contador: 1\n",
            "Nivel 2, contador: 2\n",
            "Nivel 2, contador: 3\n",
            "10 - Procesos: 3\n",
            "Nivel 1: 20\n",
            "Nivel 2, contador: 1\n",
            "Nivel 2, contador: 2\n",
            "Nivel 2, contador: 3\n",
            "Nivel 2, contador: 4\n",
            "Nivel 2, contador: 5\n",
            "10 - Procesos: 5\n"
          ],
          "name": "stdout"
        }
      ]
    },
    {
      "cell_type": "code",
      "metadata": {
        "id": "_tjll5HH4Kjl"
      },
      "source": [
        ""
      ],
      "execution_count": null,
      "outputs": []
    }
  ]
}