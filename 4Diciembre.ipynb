{
  "nbformat": 4,
  "nbformat_minor": 0,
  "metadata": {
    "colab": {
      "name": "4Diciembre.ipynb",
      "provenance": [],
      "authorship_tag": "ABX9TyNNqb7pi+CBj3bUAUMGtpKS",
      "include_colab_link": true
    },
    "kernelspec": {
      "name": "python3",
      "display_name": "Python 3"
    }
  },
  "cells": [
    {
      "cell_type": "markdown",
      "metadata": {
        "id": "view-in-github",
        "colab_type": "text"
      },
      "source": [
        "<a href=\"https://colab.research.google.com/github/Erik-Silver/daa_2021_1/blob/master/4Diciembre.ipynb\" target=\"_parent\"><img src=\"https://colab.research.google.com/assets/colab-badge.svg\" alt=\"Open In Colab\"/></a>"
      ]
    },
    {
      "cell_type": "code",
      "metadata": {
        "id": "o1UkMjWXZ1ai"
      },
      "source": [
        "def busqueda_binaria_normal(lista, dato):#busqueda binaria normal \n",
        "    inferior = 0\n",
        "    superior = len(lista) \n",
        "    mitad = 0\n",
        "    bandera = False\n",
        "    \n",
        "    while inferior <= superior:\n",
        "        mitad = (inferior + superior) // 2\n",
        "        \n",
        "        if lista[mitad] == dato:\n",
        "            bandera = True\n",
        "            break\n",
        "        if lista[mitad] > dato:\n",
        "            superior = mitad\n",
        "            mitad = (inferior + superior) //2\n",
        "        if lista[mitad] < dato:\n",
        "            inferior = mitad\n",
        "            mitad = (inferior + superior) //2\n",
        "\n",
        "    if(bandera == True):\n",
        "        print(f\"El dato fue localizado en la posicion: {mitad}\")\n",
        "    else:\n",
        "        print(\"Dato inexistente\")\n",
        " \n",
        "def busqueda_binaria_recursiva_diccionarios(lista, id):#realizando la busqueda bianria recursiva de forma recursiva con una lista de diccionarios\n",
        "    def recursion(inferior, superior):\n",
        "        \n",
        "        mitad = (inferior + superior) //2\n",
        "        if lista[mitad]['id'] == id:\n",
        "            return print(f\"Datos del alumno -> ID: {lista[mitad]['id']}, NOMBRE: {lista[mitad]['nombre']}, CARRERA: {lista[mitad]['carrera']}, PROMEDIO {lista[mitad]['promedio']}\")  \n",
        "        if lista[mitad]['id'] > id:\n",
        "            return recursion(inferior, mitad-1)\n",
        "        \n",
        "        return recursion(mitad + 1, superior)\n",
        "    \n",
        "    return recursion(0, len(lista)-1)\n",
        " \n",
        "def busqueda_binaria_recursiva(lista, id):#realizando la busqueda bianria recursiva de forma recursiva con una lista normal\n",
        "    def recursion(inferior, superior):\n",
        "        \n",
        "        mitad = (inferior + superior) //2\n",
        "        if lista[mitad] == id:\n",
        "            return print(f\"Numero encontrado en la posicion: {mitad} \")  \n",
        "        if lista[mitad] > id:\n",
        "            return recursion(inferior, mitad-1)\n",
        "        \n",
        "        return recursion(mitad + 1, superior)\n",
        "    \n",
        "    return recursion(0, len(lista)-1)  \n",
        "            \n",
        "\n",
        "alumno1={'id':2, 'nombre':\"Juan\" , 'carrera':\"ICO\", 'promedio':7.67}\n",
        "alumno2={'id':4, 'nombre':\"Rocio\" , 'carrera':\"ICI\", 'promedio':8.67}\n",
        "alumno3={'id':5, 'nombre':\"Diego\" , 'carrera':\"DER\", 'promedio':8.98}\n",
        "alumno4={'id':7, 'nombre':\"May\" , 'carrera':\"ICI\", 'promedio':9.87}\n",
        "alumno5={'id':9, 'nombre':\"Rob\" , 'carrera':\"IME\", 'promedio':10.00}\n",
        "alumno6={'id':10, 'nombre':\"Santi\" , 'carrera':\"ICO\", 'promedio':5.37}\n",
        "alumno7={'id':14, 'nombre':\"Moy\" , 'carrera':\"IME\", 'promedio':6.85}\n",
        "alumno8={'id':16, 'nombre':\"Diana\" , 'carrera':\"DER\", 'promedio':9.99}\n",
        "alumno9={'id':19, 'nombre':\"Zoila\" , 'carrera':\"ICO\", 'promedio':8.22}\n",
        "alumno10={'id':22, 'nombre':\"Armando\" , 'carrera':\"ICO\", 'promedio':7.32}\n",
        "\n",
        "bd = []\n",
        "bd.append(alumno1)\n",
        "bd.append(alumno2)\n",
        "bd.append(alumno3)\n",
        "bd.append(alumno4)\n",
        "bd.append(alumno5)\n",
        "bd.append(alumno6)\n",
        "bd.append(alumno7)\n",
        "bd.append(alumno8)\n",
        "bd.append(alumno9)\n",
        "bd.append(alumno10)\n",
        "\n",
        "\n",
        "\n",
        "\n"
      ],
      "execution_count": 1,
      "outputs": []
    },
    {
      "cell_type": "code",
      "metadata": {
        "colab": {
          "base_uri": "https://localhost:8080/"
        },
        "id": "pscmNipDasnS",
        "outputId": "15f968b0-ec8d-4196-ddf9-b76c9cc649bf"
      },
      "source": [
        "def main():\n",
        "    mi_lista = [1,2,3,4,5]\n",
        "    busqueda_binaria_normal(mi_lista,5)\n",
        "    print(\"\\n\")\n",
        "    busqueda_binaria_recursiva(mi_lista,5)\n",
        "    print(\"\\n\")\n",
        "    busqueda_binaria_recursiva_diccionarios(bd,9)\n",
        "    \n",
        "main()"
      ],
      "execution_count": 2,
      "outputs": [
        {
          "output_type": "stream",
          "text": [
            "El dato fue localizado en la posicion: 4\n",
            "\n",
            "\n",
            "Numero encontrado en la posicion: 4 \n",
            "\n",
            "\n",
            "Datos del alumno -> ID: 9, NOMBRE: Rob, CARRERA: IME, PROMEDIO 10.0\n"
          ],
          "name": "stdout"
        }
      ]
    },
    {
      "cell_type": "code",
      "metadata": {
        "id": "vxM_BL5CatO_"
      },
      "source": [
        ""
      ],
      "execution_count": null,
      "outputs": []
    }
  ]
}