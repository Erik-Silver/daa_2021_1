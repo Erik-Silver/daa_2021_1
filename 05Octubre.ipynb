{
  "nbformat": 4,
  "nbformat_minor": 0,
  "metadata": {
    "colab": {
      "name": "05Octubre.ipynb",
      "provenance": [],
      "authorship_tag": "ABX9TyNIVW2/AKRXj/ojKQg88DNq",
      "include_colab_link": true
    },
    "kernelspec": {
      "name": "python3",
      "display_name": "Python 3"
    }
  },
  "cells": [
    {
      "cell_type": "markdown",
      "metadata": {
        "id": "view-in-github",
        "colab_type": "text"
      },
      "source": [
        "<a href=\"https://colab.research.google.com/github/Erik-Silver/daa_2021_1/blob/master/05Octubre.ipynb\" target=\"_parent\"><img src=\"https://colab.research.google.com/assets/colab-badge.svg\" alt=\"Open In Colab\"/></a>"
      ]
    },
    {
      "cell_type": "code",
      "metadata": {
        "id": "9ZKEFvw5B0oY"
      },
      "source": [
        "class Stack:\n",
        "    def __init__(self):\n",
        "        self.__datos = []\n",
        "        \n",
        "\n",
        "    def is_empty(self):\n",
        "        return len(self.__datos) == 0\n",
        "\n",
        "    def length(self):\n",
        "        return len(self.__datos)\n",
        "\n",
        "    def pop(self):\n",
        "        if len(self.__datos) != None:\n",
        "            return self.__datos[-1]\n",
        "\n",
        "    def peek(self):\n",
        "        if self.__datos !=0:\n",
        "            return self.__datos[- 1]\n",
        "        else:\n",
        "            return None\n",
        "\n",
        "\n",
        "    def push(self,elemento):\n",
        "        self.__datos.append(elemento)\n",
        "        \n",
        "\n",
        "    def to_string(self):\n",
        "      print(\"\\n|---------------------------|\")\n",
        "      for elem in self.__datos[-1::-1]:\n",
        "          print(elem)\n",
        "      print(\"\\n|---------------------------|\")"
      ],
      "execution_count": 14,
      "outputs": []
    },
    {
      "cell_type": "code",
      "metadata": {
        "id": "vcXSKzj6FRIu",
        "outputId": "aa158af3-115b-4618-fa9a-bd1ac9958d47",
        "colab": {
          "base_uri": "https://localhost:8080/",
          "height": 408
        }
      },
      "source": [
        "pila = Stack()\n",
        "pila.push(10)\n",
        "pila.push(20)\n",
        "pila.push(1)\n",
        "pila.push(393)\n",
        "pila.push(103)\n",
        "\n",
        "pila.to_string()\n",
        "\n",
        "#Dato extraido\n",
        "sacado  = pila.pop()\n",
        "print(f\"{sacado}\")\n",
        "\n",
        "pila.push(444)\n",
        "pila.push(233)\n",
        "pila.to_string()\n",
        "print(f\"La pila tiene {pila.length()} elementos\")\n",
        "print(f\"¿La pila esta vacia? {pila.is_empty()}\")"
      ],
      "execution_count": 15,
      "outputs": [
        {
          "output_type": "stream",
          "text": [
            "\n",
            "|---------------------------|\n",
            "103\n",
            "393\n",
            "1\n",
            "20\n",
            "10\n",
            "\n",
            "|---------------------------|\n",
            "103\n",
            "\n",
            "|---------------------------|\n",
            "233\n",
            "444\n",
            "103\n",
            "393\n",
            "1\n",
            "20\n",
            "10\n",
            "\n",
            "|---------------------------|\n",
            "La pila tiene 7 elementos\n",
            "¿La pila esta vacia? False\n"
          ],
          "name": "stdout"
        }
      ]
    },
    {
      "cell_type": "markdown",
      "metadata": {
        "id": "QgeEauQKOnsq"
      },
      "source": [
        "#Ejemplo de aplicacion de pilas\n"
      ]
    }
  ]
}