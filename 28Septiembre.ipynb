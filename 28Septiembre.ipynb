{
  "nbformat": 4,
  "nbformat_minor": 0,
  "metadata": {
    "colab": {
      "name": "28Septiembre.ipynb",
      "provenance": [],
      "toc_visible": true,
      "authorship_tag": "ABX9TyNi+XX8UgogCBbvuX+ANwJL",
      "include_colab_link": true
    },
    "kernelspec": {
      "name": "python3",
      "display_name": "Python 3"
    }
  },
  "cells": [
    {
      "cell_type": "markdown",
      "metadata": {
        "id": "view-in-github",
        "colab_type": "text"
      },
      "source": [
        "<a href=\"https://colab.research.google.com/github/Erik-Silver/daa_2021_1/blob/master/28Septiembre.ipynb\" target=\"_parent\"><img src=\"https://colab.research.google.com/assets/colab-badge.svg\" alt=\"Open In Colab\"/></a>"
      ]
    },
    {
      "cell_type": "markdown",
      "metadata": {
        "id": "fvfeE64xDnUF"
      },
      "source": [
        "#Seccion 1\n"
      ]
    },
    {
      "cell_type": "markdown",
      "metadata": {
        "id": "HBCSB0TmDuGF"
      },
      "source": [
        "En este archivo aprenderemos a progrmamatr en python con la heramienta de google Colab.research\n",
        "Tambien aprenderemos a guardar nuestro cambios a nuestro repositorio de Github\n"
      ]
    },
    {
      "cell_type": "markdown",
      "metadata": {
        "id": "O0FwqtRpD2lN"
      },
      "source": [
        "## codigo de ejemplo:\n",
        "*Negritas*\n",
        "`\n",
        "edad = 10\n",
        "print(edad)\n",
        "`"
      ]
    },
    {
      "cell_type": "code",
      "metadata": {
        "id": "F35RxG0fFiBr",
        "outputId": "da1dfe20-3971-406f-9b9f-48cccce29591",
        "colab": {
          "base_uri": "https://localhost:8080/",
          "height": 34
        }
      },
      "source": [
        "frutas = []\n",
        "frutas.append(\"manzana\")\n",
        "frutas.append(\"piña\")\n",
        "frutas.append(\"kiwi\")\n",
        "print(frutas)"
      ],
      "execution_count": 4,
      "outputs": [
        {
          "output_type": "stream",
          "text": [
            "['manzana', 'piña', 'kiwi']\n"
          ],
          "name": "stdout"
        }
      ]
    },
    {
      "cell_type": "code",
      "metadata": {
        "id": "L6_93bykH2O2"
      },
      "source": [
        "archivo = open(\"prueba_daa.txt\",\"wt\")\n",
        "archivo.write(\"Hola mundo jupiter\")\n",
        "archivo.close()"
      ],
      "execution_count": 7,
      "outputs": []
    },
    {
      "cell_type": "code",
      "metadata": {
        "id": "GJ5eKUeGIDLT"
      },
      "source": [
        ""
      ],
      "execution_count": null,
      "outputs": []
    }
  ]
}