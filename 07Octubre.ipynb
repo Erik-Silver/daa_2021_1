{
  "nbformat": 4,
  "nbformat_minor": 0,
  "metadata": {
    "colab": {
      "name": "07Octubre.ipynb",
      "provenance": [],
      "authorship_tag": "ABX9TyP5k0WhuhmQrDZbvRYj8Byn",
      "include_colab_link": true
    },
    "kernelspec": {
      "name": "python3",
      "display_name": "Python 3"
    }
  },
  "cells": [
    {
      "cell_type": "markdown",
      "metadata": {
        "id": "view-in-github",
        "colab_type": "text"
      },
      "source": [
        "<a href=\"https://colab.research.google.com/github/Erik-Silver/daa_2021_1/blob/master/07Octubre.ipynb\" target=\"_parent\"><img src=\"https://colab.research.google.com/assets/colab-badge.svg\" alt=\"Open In Colab\"/></a>"
      ]
    },
    {
      "cell_type": "markdown",
      "metadata": {
        "id": "Wcmx7E1iSxYO"
      },
      "source": [
        "# Busqueda Lineal\n",
        "dado un conjunto de datos no ordenados, la busqueda lineal consisten en \n",
        "recorrer el conjunto de datos desde el inicio al final, moviendose de uno\n",
        "en uno, hasat encontrar el elemento o llegar a final del conjunto.\n",
        "\n",
        "datos = [ 4,18,47,2,34,14,78,12,48,21,31,19,1,3,5]\n",
        "\n",
        "# Busqueda Binaria \n",
        "funciona sobre un conjunto de datos lineal ordenado consiste en dividir\n",
        "el conjunto en mitades y buscar en esa mitad, si el elemento buscado no\n",
        "esta en la mitad, preguntas si el elemento esta a ala derecha o a la \n",
        "izquierda, haces la lista igual a ala mitad correspondiente y repites el \n",
        "proceso.\n",
        "L = [1, 2, 3, 4, 5, 12, 14, 18, 19, 21, 31, 34, 47, 48, 78]\n",
        "\n",
        "DER = longitud(L)-1\n",
        "\n",
        "IZQ = 0\n",
        "\n",
        "MID apuntara a la mitad del segmento de busqueda\n",
        "\n",
        "buscado: valor a buscar\n",
        "\n",
        "1. DER = longitud(L)-1\n",
        "2. Haceer IZQ = 0\n",
        "3. si IZ > que DER significa que hay un error en los datos \n",
        "4. Calcular MID = int((IZQ + DER) / 2 ) \n",
        "5. mientras L[MID] != buscado: hacer \n",
        "6.      - preguntar L[MID] > buscado\n",
        "               - hacer DER  = mid\n",
        "        - else: \n",
        "             - hacer IZQ = MID\n",
        "        - preguntar(DER -IZQ) % 2 ==0:\n",
        "              - MID = (IQZ (DER -IZQ ) / 2) +1\n",
        "        - ELSE:\n",
        "              - \n",
        "            "
      ]
    },
    {
      "cell_type": "code",
      "metadata": {
        "id": "Ljm51tUKTXTO",
        "outputId": "12b4b84b-e09e-4052-f2ec-725b26f4c23b",
        "colab": {
          "base_uri": "https://localhost:8080/"
        }
      },
      "source": [
        "'''\n",
        "Busqueda lineal regresa la posicion del elemento\n",
        "buscado,  si se encuentra dentro de la lista.\n",
        "Regresa -1 si el elemento no existe denttro de la\n",
        "lista. \n",
        "'''\n",
        "def  busq_lineal(lista,valor):\n",
        "  indice = -1\n",
        "  contador = 0\n",
        "  for idx in range(len(lista)):\n",
        "    contador += 1\n",
        "    if lista[idx] == valor:\n",
        "      indice = idx\n",
        "      break\n",
        "  print(f\"Numero de comparaciones realizadas: {contador}\")\n",
        "  return indice\n",
        "\n",
        "\"\"\"\n",
        "Busqueda Binaria\n",
        "\"\"\"\n",
        "\n",
        "def busqueda_binaria(lista, valor):\n",
        "  IZQ = 0\n",
        "  DER = len(lista) - 1\n",
        "  MID = int((IZQ + DER) / 2)\n",
        "  if len(lista) % 2 == 0:\n",
        "    MID = (DER // 2) + 1\n",
        "  else:\n",
        "    MID = DER // 2\n",
        "  while (lista[MID] != valor):\n",
        "    if lista[MID] > valor: \n",
        "      DER = MID\n",
        "    else:\n",
        "      IZQ = MID\n",
        "    if (DER - IZQ)%2 ==0:\n",
        "      MID = (IZQ + (DER-IZQ)//2)+1\n",
        "    else:\n",
        "      MID = IZQ + ((DER-IZQ)//2)\n",
        "  return MID\n",
        "\n",
        "def main():\n",
        "  datos = [ 4,18,47,2,34,14,78,12,48,21,31,19,1,3,5]\n",
        "  dato = int(input(\"Valor a buscar: \"))\n",
        "  resultado = busq_lineal(datos,dato)\n",
        "  print(f\"Resultado: {resultado}\")\n",
        "  print(\"Busquea lineal en una lista ordenada\")\n",
        "  datos.sort()\n",
        "  print(datos)\n",
        "  resultado = busq_lineal(datos,dato)\n",
        "  print(f\"Resultado: {resultado}\")\n",
        "  \n",
        "  print(\"\\n\")\n",
        "  print(\"Busqueda bianaria\")\n",
        "  posicion = busqueda_binaria(datos,dato)\n",
        "  print(f\" El elemento a buscar {dato}, esta en la posicion: {posicion}\")\n",
        "\n",
        "main()\n",
        "\n"
      ],
      "execution_count": null,
      "outputs": [
        {
          "output_type": "stream",
          "text": [
            "Valor a buscar: 3\n",
            "Numero de comparaciones realizadas: 14\n",
            "Resultado: 13\n",
            "Busquea lineal en una lista ordenada\n",
            "[1, 2, 3, 4, 5, 12, 14, 18, 19, 21, 31, 34, 47, 48, 78]\n",
            "Numero de comparaciones realizadas: 3\n",
            "Resultado: 2\n",
            "\n",
            "\n",
            "Busqueda bianaria\n"
          ],
          "name": "stdout"
        }
      ]
    },
    {
      "cell_type": "code",
      "metadata": {
        "id": "uynpNRexVrWY"
      },
      "source": [
        ""
      ],
      "execution_count": null,
      "outputs": []
    }
  ]
}