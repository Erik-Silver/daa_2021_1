{
  "nbformat": 4,
  "nbformat_minor": 0,
  "metadata": {
    "colab": {
      "name": "19_Octubre.ipynb",
      "provenance": [],
      "authorship_tag": "ABX9TyOuf8DcVYhuwRAELEbhZp/M",
      "include_colab_link": true
    },
    "kernelspec": {
      "name": "python3",
      "display_name": "Python 3"
    }
  },
  "cells": [
    {
      "cell_type": "markdown",
      "metadata": {
        "id": "view-in-github",
        "colab_type": "text"
      },
      "source": [
        "<a href=\"https://colab.research.google.com/github/Erik-Silver/daa_2021_1/blob/master/19_Octubre.ipynb\" target=\"_parent\"><img src=\"https://colab.research.google.com/assets/colab-badge.svg\" alt=\"Open In Colab\"/></a>"
      ]
    },
    {
      "cell_type": "markdown",
      "metadata": {
        "id": "QWHvKAe-_Onf"
      },
      "source": [
        "![image.png](data:image/png;base64,iVBORw0KGgoAAAANSUhEUgAAAKEAAAC1CAYAAAA3Fp87AAAWdElEQVR4Ae2dMc7cNhOG9wgBXAVIEVdJYzepDONHmgRpDdgHSLqUadwFOYTha7jKRVzkPvox5LzDmSFFiZL20+5+UxhaLakhOfPwJbUk/V3++++/Kf6FD85k4EKF//Xlt/i30QeXyyV8t9F3xB35LyDc4UA4MTrxdhELCHcCGBBuhw8dNyAMCE+fSgSEAWFACEm+5yv15Hut/7tfL9Pl8s308+eBYfXzj9O39DLx60+HtDuU8GaU8KfpFQX2hx+n3w+ok3SKv7/Lb59k+3KZvv3jfwWcCqb/TT//kPNdLt9N76Qe+L58twlesWeBDwhnHCNBXJF+jBJeAUICUNQKIF2mV39nCH7/45sEJu7/+lLyWGDxfYHwL4bbQL3CVy2/3jCEOSjf/vGT6p3Fga3GnPXd9SFkQFnNquHTqV0KakNRAR3AqdWMYfvhmzzciho2IKxU1KrbSCxuHkKqYO6pCITqjRt73oiD1uS9LoS+3QCC53EMQwYLaW0fZeh6/gSEP07vWCXn7fp6PTKEqkfXPXd7w9fAtTbPVSFsDHtG0VJ6ebHIaQ0IoZbiT4ZI7smXBcLfv2jIWnC3vtsWj9tXQuWk5wihAQ7Kr8FsKaHyWepIGDpleCVYliD8bSrzPkyJNNwBYXnDQ2BOvJ6lhGmaIoDhrbaoYlZyrWhaqVZACGW8fDe9Sj/lBITTc1TCWrGsAmWl9OABtjkAlRIadWTbWkkN5BrCnm2Uv+4aw/EBCnqoEsobsPoR2YBA37dggBKWdAzlKcjaLkNWd+oGhF9+485f7JohXn4CWgdca559wxBub1Srodf87hgIt7W3AgnAroADkJbfCQfqoOelOztyQLjTgQT3eRDaoTl1NLwFr4DwrwFgfSeu4N/hx4Bwh/MQmPMgJOXC3EwNx2sA5HZvgmkHvPCZvgaEdw/hwBB6QFs1PEd9FgjTBz15jc9m4T/8o5T2GmzQGZNPX9/Fv40+IEDDf9v5ESUMJ+5zYvhvn//SQadw4j4nhv/2+S8g3DgMA7wYjrcDSD6M4XgngHAigIzrOJABYUB4+ktVQLgSwn8+vsjDxutX0z/umRiOF9Tv31fTS/WzzsuPvxjwA0IHVD2c/jK9f61+IwsIDUC1vxyQAPDDm/Tcnx+yL99+LvkCwiUIkxNfTO8/c28OCIcgxAgi0H3+Po8oDCVBHBAuQYh09OiAcAjCSvngx4CwDAWLw0lAOASd92dACICOuKIHhxIOQRkQHgEfbASEQ/BBEefmhPoNOeaEgGzpGhBugvAT/Gbejl9M7/8tU6KAcC186neu5DQ3sUbPj2uBS3yBN2L2obwps+8DwiUIV6STE8XhK/JHXgtqQHgANAGhhWq0kwWEAeHpKh4QBoS3A2Gi0U++4z4vKYUfru+HOGOyf04zOg+K/MXnMRzHcHw7w3H0zNIzR31BPXn0mchf/B1KGEp4egcKCAPCgPARhqUYjsvQuiWeoYSLSvhmelv9RPP99Kd6bhhCt5aqd5RUQXR5zbqrS/N2sIPl4refuefW2hR78IdaP5eNCpxm6tIrL3ZWr+nBDKF2uAKQoBmCkAIitsr5FQMC7NMOFOTFbpQLd4CunWI3qYyGkO1kSJCPd7X0bDJIgMvsE0TduK6ttGZ53M5QQgR89nowhK4cqAuCWymh5IciWxVGfmMnQdE+F4N8gB73rfJ1mv5MZeKe7OjPqT4MLHU2n4Z7XV5AKEGeU8XrQmhUo1cXFViAp69NO1AopYRVPqdw8zbRCS7T24/20FdlE+V+eDNVaY3yAsJe4FNacX5yFs15METys/S9Dt7qzwBLQeKfhXLkstsq+GnODmBQ9mEPSuTvpfymTesLqGkFGspVStgrLyBchFArJOZQlwkBoKBtghCBwhxvsR4FAF12eSFoAIoyFISfvpY2ZLDzOWBAkiDEc7puBkpblx6Ea8oLCBeDryF8J8OLDto4hAhiA5xOfRDsUvaCHcBkILTtgRIWsNs2c9lqWz6gVGonNjit1LOUWZcX546Xh9HP30/FmQiQCsawEsJGC0CXZsqGgqFsl7cF7yKEbEMgnbfp4cF98g3KMW/HqGcB8NNXX15OCyVsBc99B4fn4at27ogSWlv+vxepIbD5S9n2e2cHUOD3PFwJEp8mAJa33NxOZ7MxjJfO+W6SeSmXJarYKQ/zz4DQAQfHjFxHIByx+1zyBoQB4fKU5AAf9TpUQHiAg0MJ9bxv/HNAGBDejhImGjGBjev1z1SEj62P44zJ+BCi5zgxHO/3X/zv/TuH5IAwILyJOY1Wxvg8BmW8mOxUQQIulHAMOt9JA8KA8CZGkpgT7gQxlDCU8LCeLOuxaj01DR1u/dOsmW4ZjrEDxa+ztjpDL69L8/WabY97TtZ5qXyXpm2KPfy8pPdV9nzkbJry2H+hhH5xXkMI55odIjv2E5I9BA+29b49DWIvLwUWdlT9c4Cx44Y3ITTak+FCPt4Y0bPJIAFKbCtL5aEdLR9xWrM8bmvMCckRyVHrzmSIUggAe15M6l0zftJe7vt5oVIp2APtMc/pDqDOkZBNnw/3BKH+nOoL5WvsNURewEz5A0LtePRopRymxwuwdov/5jmhClaBbWZ+tZC3qqeua689TuF0PaxNdII4Y3LY/E87Wz4/EYRQg6QAc0Mxd45VeQGogi21qdEe2IMS+XvxRdNmAZHqjrmdhRUjS+6o3r6/p/JCCc9UQuw0VgEVCHS90ucCAIJvQGvB3IBwzZmPsvFV7f42UNq69CBcU15AqIPdCBp6rgS+MXyRE+fhmRleuVwEEMrUs1PnBQwKloX2ePtV+6RjWJu57LKzW8+NKxsNH6HcKm8ooQOkAaGognnzU8FgJ8LJi9eRcyMjeTV8+NxqD9LSlSGWYXweag8P7lPnQTkdH2W/+PKy/0MJKRhwIn7/whVvwBiKZn7XG1VCBDA5/6KBriGYy2u/d+dBeu3xaQJgecvN9XI21c9ASDfqPeejTnnosMlebOVyimjUYjmNnAiHxnXZX95HAeEgcN6BdB8QjoOn/RgQBoSnq3hAGBDeDoSJRkzI45p/QA0/PJ0f4sVk/5xGz3Hi85g/YziO4fh2huPovWO9V/uLerK+j89jvgwlDCU8vQMFhAFhQPgIQ1cMx2PDr4/5s1NCWXNVa6bJKW6N06yL9tI2rphgR0wKgFk/rgPaz4st+rTWq9ah59Zy1Y7pXLbeoIu1a7Vu7LaI9eoy69tOXcj3zwhCHazLZP7ADCAzu0B402YvjYdycqLv3b37HEi7VWou/2LeFOAX08vXCkKqMzZfoP6AiYFAJwNUeasaQ4hn3VRlvi7Lvs3lIZ/qLM8KwhSM8XMk6N1+P2E5ZDS4dsxQAII5+NL3i3kzNC8/vpneawgNPFC3DD3ag/Jxvwhhry4DvkV5KJ/a+YyUkIc5dqZWQqsGamtX6+9w4HmlFkNKCCV6/aKsRvipASBayJsDSnC1FSaBzDZKpwGU9VkR+T+lVdukkyzURXearm9h5+MvMnoEhF/L/8gvaqdA6wGKAI1A6JXA38MmXX2avYcKUjBrCJE3BRhDMeCW3dN57iftdt+nZxlI2IOC+fs5CH0+f0/PBYQnQygbahvqUwWs6hyYV9YQFpiV8n1Wh9uT+ro0gZRGDdjMc+NeXaQs1M8oe7GTO0QGHzAHhOx0OFgUQQ0ZvTQ4n5yLz4tXZTvlReAaEOIchwRM8r7iOaB+i8VnO+mnMqDmZCd/Vnm4PmW4Lm/n+rn5urwpbUf9DITFHtWl8mcooZsnMggmUHBsK40hHoIQ9jhQNihQJla4bl4dXKgNw9U5m2LLK1Ak0M1zqAvbXFMXl6fukGzTQfp8hmM4yG/PggJBEThdVJFA66VxT64driFxn2ftIfAYZpfLzuU6CJXi5CFQKZ8aZnPaRf2xoAJl/VynLj3f+jQHINX/+UBo5jsOip1p5MQhCHeW92hlBYQHABEQ7uvUAWFAeLqKB4QB4e1AmGj0k/a4L6sa4Yvr+iLOmOyf0zzay8JTtieG4xiOb2c4fkryH60s6smP1qanbE8oYSjh6R0oIAwIA8KnlP1rlRXD8f4Xu4f7ExJYpNebKxOAbh1TdqeQGm5NO3TtuBHM2XXmnBc7XdKQJmdMsAaNnTV05fVoZy8/V9aPxXf4SQpr6zJiYJ2abKo1aWdX+3bJ5oMNx9pBB50jAZxmF035T8MJ7iElZHs5SKivCqYEu3SMubwZQLXZQZ5lCCuAasgBcdqwwSABIJMG2ymPO9NC30lZaBP7aIXNx4IwBfjYcyToxbKrhp1anD4GobeHewReTxmQhrJxn/IamD1cKyFEB3PbylAXlIfysf2/f6al7MQhO7Axb/NRd9E451Jgq16NPAvnSHrPAZgRJazsOaWAzWaddV58bp5VWQehBwSQUXvefnw1vaQhWW29yvlJeaF2bQW3bSxTg5ZNaudjKSGGDACmHGgdU4Y6UrStaQBmBEIfeH8Pm3T1afpef67zlsCnABNMMlxCNZHHg4Tv83yyVsH2mRapN0YK5XsNdwKcjhkgVgFhDs5TQqjPbgggl/JioIPTy+shlBerCjaolp3HykZdnd8AVGAkELOPMP+ETQcwOj9eggi0jk20Nfnh4daO4QzVGxE06dkYztS8ZTRNOxGfR69VvZRCeFsmr6p/yoc2a6jYFjoZ5mUabmmzTFkUWADow5ozLYAWoGa1y2W3bJazKc8GQq8UxjkugKvTOMjkRA/MunsOnHSWdiCzLZcXdeZnPaAFONhUIOBZrVhq+AeYsFlsYRj1SogyLIBUb9jo2XwsCMW5+vcxNR9Cz+bfwOCYFOStaRt/okmOdxP/MnfiYPr2CKwMQ6fOCH4uRwGowJiHq/ivzkNlWwhtWeXZ/FKDvOV7b/OxIOwMZeuUCT197EpOvKb9R7cdEB4AbkA41ml9pwoIA8LTVTwgDAhvB8JEI0/Y43OZRIcvnsgXD/c74QHq5uctvXsCtZceaf05Y+roAWHfSUsQBYT7/fdw+wmXoDk6PSAMCE8fCgPCgDAgfOI58DVGkhiOdwYxlPCZKqGsV/r1VLfeatYpr5E2unbMwM/Wv7MeXCmQy6vbKvbxsxt217hnqAPRv/RsL22w3rouud56DdmuZac63NfbsW6M3fnb3inD++gAIAcD25vSJoataRyYMSVcqD9gQZ3cThcBkYBBXtlQsP5cB+wYP7gRwaZ16t2rC2wmwN3ZFOW/+xqOU3Ce7hwJFEV23EAtBICxMya5o7TrDzDydX57lM2Xh0LUkxRIf6a8uJc2AAyA7kcTSvdpHb/7+qC8ooa5LXNnU+5QCXn+4Z0kmzLVDmLk2bGF36qBCs5WCNcAQHkasPtg63tbTwDcPiuC52pYytxuNg0+bYHLbbN1QSeg7WlQ07sfjh8bQgQ/qcPcUAyQcQWwBowCItmqVFD+ZokFIgOKZxtpSxBWdYEKzp9NCSXcoZJQFHIiPq++LgVTIGkBVBRLhk0NrAEBQDk7yKMUXereS+vVG2mqLlkVseP6GSghVER6PTtTz5OOTEPQrgMhDhfNHYIiEAEYgpzhzIFXKlZBBRgcmElZe2lqOmJUd64uxVZSO7ypp2up30MpoagC924TDPTSI9N4ODwMQvN3RBBABMsD5++LOvrOiHt5UYAvlGKhQ4kPW2nUXjxrIJyvi9g1gKNNuc73ByGcYHrVlc+RQEm4TFHTLRAu1B/AZOXQwbKBtvnUdqsEBwAu3wuA6m1ZfwdYYLdK69Qbz+Q6lzL1wflsH/XS7XrUw+8MBxx77esmJXziOl7bB3vs358S3mDwAsIyFdgCY0B4ANQBYUA4/vPIAeDpHh8QHgRhkkQ/2Y/76/7tjvBv8e99bWDY1+u0gh31OZRwX0ySAAaE+514FNDP0U5AeMD8MJRwfye+r61cB0BztNoEhAFhvB3fYMcc6egxHB8QwFDCB1ZCWZM0i+VqEZ1/4jDrnG6N8+ppR58xUZtzk0LovxXS6DDYQFrl7flhYS181mYqH+u/tEas1oBny8Oat1pTdpsjblQJdUNPPkcC55rdN3YL1JgSdtomANqtWXNDW4alkbdXZ07LnRN1KTDN2kQHSAC7syK98rDdrLVvkW3eJoSpUe1zGFBH2cmCXv3hTX2W4sppgGMIwk7bsE3KqDeC768GJjscjvgIeVOZHZu5rVnV/FkR2GjFRPY83h2EcDg7RW8JwlAhDUaeHTukt9rcBGGnbThX8rL5t0ksaL28Q+3hjpogxOeZ8jNspLxWQXvlBYRXBvRoCKEoUEJ/j/Lo6tP0fQ8Knc/b6aUBply3DRDqJUqnirc5HHfUoufgp04DFEPDcadtHgIMz+V8cVHDXt6eH8p/eq5fFPIRgmWbmH+OQFjqrMuWkezm/5gOlEy9HcNR0ggMIeq87VOlHQ2hDLEf6WSa+hXAKUdKU+32eXs+Qp1xNXlnbfb/jsnbDy/SRoSW31EOruggUHv6/u6U0KtDbhS/3QFaDtrV01jVjlJCaRt3OgMI3jLx8wba2sqLtJYfoMTpyj+foJPjuZZN85xVQql3qzxzbgY/15S38duFEM7Q8wj6DEXgHpt6kD9T+9Rpo78Tbm4bAoghUR2QZz+JEhEwc37w5QNAQDb3HNLT1UHYK0/NX3O8LIC3C6FpsJ5T3ObnTUp4Z23EcHqNa4IztnLtgzsg3O+/2EWzU5UCwoAwdtHs7ETXGGJHbMpwnD74F4G4L2cgwhfX9UXMCfcPJyM9P/Jaf4sShmOsY0b8EXPC7b4jPweEB8ynAsKAMF5MDuhII8p/dN5QwgMCGEoYShhKeEBHOlrdRuydroRYpNcbV1MD3Bqn3nUhC+b8s8mpaaNrxwzMbLtXrd2y8vTy9tL0eq5ZO8b6tN7mpdaq5fgB0ss6sLQHP2VhnZ/bi90zCTh9NuXcFxMsgnODtDMAoNmVwec6bimNHTw2HC+3u7VxtFIW9kMzL6UBAvgLu29kV3TD79ipg2edwmaQLJSpXgw8xADAYUPF7HPKf+cs2yXn3P45EvRwOFR2p6hADUE40G6UjeBqEJGGeuG+zgt1Y3g65WP3tOxW0hAyzLX9+V3eqW6d59Ce04djGVqVEvqeJHlOOEfSq4t2Ij6vvnJw9DSkKsspjLa9Oi+GZdVpkp1G+V0IUZfm+ROA3vi7Kd3n8rQiINwBNqAYUkKoSwMCr2b+HuXR1afN3acAy1Cs3mIb5QuEmNfRleGds1+UsYBIZc4ptLdDbQkIbwhCfQYjw5PnbSXQCiI/t2u9pCXgCxwAI8HchLBtn56r4MHzBCnUNo1mtrzuc6fPCVcogjgNkn7CORI4sVUXKBMBg8+rrwiimob4Z6uy4bPGtZcXQ7eBeUX55jkVg1RPPC+duLwpC5QKUClbPYf23qQS6jkgVTQ7gxvpGnFqmurJcOjqK9oxCyEriqRDYRpvp3irRV5zrgNv4woSqnerfPMcynN+5zI09PoztR/3CTxXDtKkU586HKNyev6h5iDSmzhdV/qm0kZ/J+y126cBqgQ7oNBvufi9zv1XKQqEPKwrAH0Z8L+b+1XPUR0w7FYxAeilPqJ83edu5cUkOVjPRe7v86bh+AHavVr1F9p6/nC8UMGjGnpNOwHhPuEICA/oBAFhQDj+ZnoAeFpZA8KDIEySiElqXK97niL8W/n3/5ZL+cTCQWidAAAAAElFTkSuQmCC)"
      ]
    },
    {
      "cell_type": "code",
      "metadata": {
        "id": "AwgCpFIq9LVV",
        "outputId": "adc7d64f-9ad1-4d3d-9c36-f4ec5c9e3119",
        "colab": {
          "base_uri": "https://localhost:8080/",
          "height": 510
        }
      },
      "source": [
        "def ejemplo4(n):\n",
        "  count = 0\n",
        "  i = n\n",
        "  print(f\"Nivel 1: {i}\")\n",
        "  while i >= 1:\n",
        "    count += 1\n",
        "    print(f\"Nivel 2, contador: {count}\")\n",
        "    i = i //2\n",
        "  basura = 3+2\n",
        "  return count\n",
        "\n",
        "\n",
        "prueba = ejemplo4(10)\n",
        "print(f\"10 - Procesos: {prueba}\")\n",
        "prueba = ejemplo4(4)\n",
        "print(f\"10 - Procesos: {prueba}\")\n",
        "prueba = ejemplo4(8)\n",
        "print(f\"10 - Procesos: {prueba}\")\n",
        "prueba = ejemplo4(5)\n",
        "print(f\"10 - Procesos: {prueba}\")\n",
        "prueba = ejemplo4(20)\n",
        "print(f\"10 - Procesos: {prueba}\")"
      ],
      "execution_count": 1,
      "outputs": [
        {
          "output_type": "stream",
          "text": [
            "Nivel 1: 10\n",
            "Nivel 2, contador: 1\n",
            "Nivel 2, contador: 2\n",
            "Nivel 2, contador: 3\n",
            "Nivel 2, contador: 4\n",
            "10 - Procesos: 4\n",
            "Nivel 1: 4\n",
            "Nivel 2, contador: 1\n",
            "Nivel 2, contador: 2\n",
            "Nivel 2, contador: 3\n",
            "10 - Procesos: 3\n",
            "Nivel 1: 8\n",
            "Nivel 2, contador: 1\n",
            "Nivel 2, contador: 2\n",
            "Nivel 2, contador: 3\n",
            "Nivel 2, contador: 4\n",
            "10 - Procesos: 4\n",
            "Nivel 1: 5\n",
            "Nivel 2, contador: 1\n",
            "Nivel 2, contador: 2\n",
            "Nivel 2, contador: 3\n",
            "10 - Procesos: 3\n",
            "Nivel 1: 20\n",
            "Nivel 2, contador: 1\n",
            "Nivel 2, contador: 2\n",
            "Nivel 2, contador: 3\n",
            "Nivel 2, contador: 4\n",
            "Nivel 2, contador: 5\n",
            "10 - Procesos: 5\n"
          ],
          "name": "stdout"
        }
      ]
    }
  ]
}