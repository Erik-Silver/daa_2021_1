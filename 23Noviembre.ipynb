{
  "nbformat": 4,
  "nbformat_minor": 0,
  "metadata": {
    "colab": {
      "name": "23Noviembre.ipynb",
      "provenance": [],
      "authorship_tag": "ABX9TyPt/EJQ0zE9ejrzjTktzhTE",
      "include_colab_link": true
    },
    "kernelspec": {
      "name": "python3",
      "display_name": "Python 3"
    }
  },
  "cells": [
    {
      "cell_type": "markdown",
      "metadata": {
        "id": "view-in-github",
        "colab_type": "text"
      },
      "source": [
        "<a href=\"https://colab.research.google.com/github/Erik-Silver/daa_2021_1/blob/master/23Noviembre.ipynb\" target=\"_parent\"><img src=\"https://colab.research.google.com/assets/colab-badge.svg\" alt=\"Open In Colab\"/></a>"
      ]
    },
    {
      "cell_type": "code",
      "metadata": {
        "colab": {
          "base_uri": "https://localhost:8080/"
        },
        "id": "V0zqrIPek40s",
        "outputId": "51983ab7-19a7-46b6-8143-29c060a9e09e"
      },
      "source": [
        "def normalizar(cadena):\n",
        "    acentos = (\n",
        "        (\"á\", \"a\"),\n",
        "        (\"é\", \"e\"),\n",
        "        (\"í\", \"i\"),\n",
        "        (\"ó\", \"o\"),\n",
        "        (\"ú\", \"u\"),\n",
        "    )\n",
        "    for a, b in acentos:\n",
        "        cadena = cadena.replace(a, b).lower()#en donde haya una á la reemplaza por una a y asi con las 5 vocales \n",
        "    return cadena\n",
        "\n",
        "lema = \"El lema que anima a la Universidad Nacional, Por mi raza hablará el espíritu, revela la vocación humanística con la que fue concebida. El autor de esta célebre frase, José Vasconcelos, asumió la rectoría en 1920, en una época en que las esperanzas de la Revolución aún estaban vivas, había una gran fé en la Patria y el ánimo redentor se extendía en el ambiente.\"\n",
        "\n",
        "lema2 = normalizar(lema) # me esta regresando mi parrafo sin acentos y sin mayusculas \n",
        "print(lema2)\n",
        "print(\"\\n\")\n",
        "#Contar las palabras en el parrafo \n",
        "parrafo = lema2.replace(\",\",\"\").split()\n",
        "\n",
        "for p in parrafo:\n",
        "    print(p, parrafo.count(p))"
      ],
      "execution_count": 1,
      "outputs": [
        {
          "output_type": "stream",
          "text": [
            "el lema que anima a la universidad nacional, por mi raza hablara el espiritu, revela la vocacion humanistica con la que fue concebida. el autor de esta celebre frase, jose vasconcelos, asumio la rectoria en 1920, en una epoca en que las esperanzas de la revolucion aun estaban vivas, habia una gran fe en la patria y el animo redentor se extendia en el ambiente.\n",
            "\n",
            "\n",
            "el 5\n",
            "lema 1\n",
            "que 3\n",
            "anima 1\n",
            "a 1\n",
            "la 6\n",
            "universidad 1\n",
            "nacional 1\n",
            "por 1\n",
            "mi 1\n",
            "raza 1\n",
            "hablara 1\n",
            "el 5\n",
            "espiritu 1\n",
            "revela 1\n",
            "la 6\n",
            "vocacion 1\n",
            "humanistica 1\n",
            "con 1\n",
            "la 6\n",
            "que 3\n",
            "fue 1\n",
            "concebida. 1\n",
            "el 5\n",
            "autor 1\n",
            "de 2\n",
            "esta 1\n",
            "celebre 1\n",
            "frase 1\n",
            "jose 1\n",
            "vasconcelos 1\n",
            "asumio 1\n",
            "la 6\n",
            "rectoria 1\n",
            "en 5\n",
            "1920 1\n",
            "en 5\n",
            "una 2\n",
            "epoca 1\n",
            "en 5\n",
            "que 3\n",
            "las 1\n",
            "esperanzas 1\n",
            "de 2\n",
            "la 6\n",
            "revolucion 1\n",
            "aun 1\n",
            "estaban 1\n",
            "vivas 1\n",
            "habia 1\n",
            "una 2\n",
            "gran 1\n",
            "fe 1\n",
            "en 5\n",
            "la 6\n",
            "patria 1\n",
            "y 1\n",
            "el 5\n",
            "animo 1\n",
            "redentor 1\n",
            "se 1\n",
            "extendia 1\n",
            "en 5\n",
            "el 5\n",
            "ambiente. 1\n"
          ],
          "name": "stdout"
        }
      ]
    },
    {
      "cell_type": "code",
      "metadata": {
        "id": "iMiDKud_mpbe"
      },
      "source": [
        ""
      ],
      "execution_count": null,
      "outputs": []
    }
  ]
}