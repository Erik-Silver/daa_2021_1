{
  "nbformat": 4,
  "nbformat_minor": 0,
  "metadata": {
    "colab": {
      "name": "30Septiembre.ipynb",
      "provenance": [],
      "authorship_tag": "ABX9TyOsgHxmbMoMpD0STBid9fl/",
      "include_colab_link": true
    },
    "kernelspec": {
      "name": "python3",
      "display_name": "Python 3"
    }
  },
  "cells": [
    {
      "cell_type": "markdown",
      "metadata": {
        "id": "view-in-github",
        "colab_type": "text"
      },
      "source": [
        "<a href=\"https://colab.research.google.com/github/Erik-Silver/daa_2021_1/blob/master/30Septiembre.ipynb\" target=\"_parent\"><img src=\"https://colab.research.google.com/assets/colab-badge.svg\" alt=\"Open In Colab\"/></a>"
      ]
    },
    {
      "cell_type": "markdown",
      "metadata": {
        "id": "Ljo6sqz0QGbn"
      },
      "source": [
        "# Palindromo\n",
        "Es una palabra que se lee de iual forma de un sentido y de sentido inverso, ejemplo:\n",
        "1. sugus\n",
        "2. oso\n",
        "3. reconocer\n",
        "4. 10101\n",
        "5. 10:10\n",
        "\n",
        "### Planteamiento del problema:\n",
        "Se desean encontrar todos los palindromos que existen en un dia completo.\n",
        "Tomando como horario inicial las 00:00 Hrs y como horario final 23:59 Hrs.\n",
        "El algoritmo debe mostrar en pantalla todos los palindromos existentes en ese\n",
        "rango, al final debe mostrar el conteo del total de palindromos existentes.\n",
        "\n"
      ]
    },
    {
      "cell_type": "code",
      "metadata": {
        "id": "G7EXb5a4P9LB",
        "outputId": "c1b72f8a-d48c-4aa7-bc1d-f313f28a8c1c",
        "colab": {
          "base_uri": "https://localhost:8080/",
          "height": 170
        }
      },
      "source": [
        "numeroPalindromos = 0 #Mi contador aumentara cuando en el condicional detecte unb palindromo \n",
        "\n",
        "for horas in range(0, 24):\n",
        "  for minutos in range (0,60):\n",
        "    #pasando de enteros a strings\n",
        "    Horas = str(horas) ## Para realizar la concatenacion y asi poner formato 24HRS\n",
        "    Minutos = str(minutos)\n",
        "    \n",
        "    if (minutos < 10) and (horas < 10):\n",
        "        Minutos += \"0:\"\n",
        "        Horas+= \"0:\"\n",
        "    if Horas[::-1] == Minutos and Minutos[::-1] == Horas:\n",
        "        numeroPalindromos +=1\n",
        "        print(Horas +\":\"+ Minutos + \" Es un palindromo\")\n",
        "        \n",
        "print(f\"El numero de palindromos es: {numeroPalindromos}\")\n",
        "    \n",
        "\n",
        "\n",
        "\n",
        "  "
      ],
      "execution_count": 3,
      "outputs": [
        {
          "output_type": "stream",
          "text": [
            "11:11 Es un palindromo\n",
            "12:21 Es un palindromo\n",
            "13:31 Es un palindromo\n",
            "14:41 Es un palindromo\n",
            "15:51 Es un palindromo\n",
            "21:12 Es un palindromo\n",
            "22:22 Es un palindromo\n",
            "23:32 Es un palindromo\n",
            "El numero de palindromos es: 8\n"
          ],
          "name": "stdout"
        }
      ]
    },
    {
      "cell_type": "code",
      "metadata": {
        "id": "hGaOEzA9YWt5"
      },
      "source": [
        ""
      ],
      "execution_count": null,
      "outputs": []
    }
  ]
}