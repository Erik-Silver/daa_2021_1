{
  "nbformat": 4,
  "nbformat_minor": 0,
  "metadata": {
    "colab": {
      "name": "11Enero.ipynb",
      "provenance": [],
      "authorship_tag": "ABX9TyNZJLF65I/AiLzz15jDuB3R",
      "include_colab_link": true
    },
    "kernelspec": {
      "name": "python3",
      "display_name": "Python 3"
    }
  },
  "cells": [
    {
      "cell_type": "markdown",
      "metadata": {
        "id": "view-in-github",
        "colab_type": "text"
      },
      "source": [
        "<a href=\"https://colab.research.google.com/github/Erik-Silver/daa_2021_1/blob/master/11Enero.ipynb\" target=\"_parent\"><img src=\"https://colab.research.google.com/assets/colab-badge.svg\" alt=\"Open In Colab\"/></a>"
      ]
    },
    {
      "cell_type": "code",
      "metadata": {
        "colab": {
          "base_uri": "https://localhost:8080/"
        },
        "id": "p9DiEYcIR-W6",
        "outputId": "dc242250-73af-4ffc-a63b-91b9e631faff"
      },
      "source": [
        "class Nodo:\r\n",
        "\r\n",
        "    def __init__(self, data):\r\n",
        "        self.data = data\r\n",
        "        self.left = None\r\n",
        "        self.right = None\r\n",
        "\r\n",
        "\r\n",
        "\r\n",
        "class buscar_nodo_mas_profundo:\r\n",
        "    def find(self, raiz, nivel, profundidad, res):\r\n",
        "\r\n",
        "        if raiz !=None:\r\n",
        "            nivel+=1\r\n",
        "            self.find(raiz.left, nivel, profundidad, res)\r\n",
        "\r\n",
        "            \r\n",
        "            if nivel > profundidad[0]:\r\n",
        "\r\n",
        "                res[0] = raiz.data\r\n",
        "                profundidad[0] = nivel\r\n",
        "\r\n",
        "            self.find(raiz.right, nivel, profundidad, res)\r\n",
        "\r\n",
        "    \r\n",
        "    def nodo_mas_profundo(self,raiz):\r\n",
        "\r\n",
        "      res = [-1]\r\n",
        "      profundidad = [-1]\r\n",
        "\r\n",
        "      self.find(raiz, 0, profundidad, res)\r\n",
        "      return res[0]\r\n",
        "\r\n",
        "\r\n",
        "def main():\r\n",
        "\r\n",
        "    arbol1= Nodo(\"D\")\r\n",
        "    arbol1.left = Nodo(\"R\")\r\n",
        "    arbol1.right = Node(\"M\")\r\n",
        "\r\n",
        "    #Izquierda\r\n",
        "    arbol1.left.left = Nodo(\"C\")\r\n",
        "    arbol1.left.right = Nodo(\"H\")\r\n",
        "\r\n",
        "    #Derecha\r\n",
        "    arbol1.right.right = Nodo(\"A\")\r\n",
        "    arbol1.right.left = Nodo(\"S\")\r\n",
        "    arbol1.right.right.left = Nodo(\"J\")\r\n",
        "    arbol1.right.left.left = Node(\"B\")\r\n",
        "\r\n",
        "    o = buscar_nodo_mas_profundo()\r\n",
        "    print('Nodo de mayor altura:', o.nodo_mas_profundo(arbol1))\r\n",
        "\r\n",
        "\r\n",
        "\r\n",
        "    arbol2= Nodo(\"A\")\r\n",
        "    arbol2.left = Nodo(\"B\")\r\n",
        "    arbol2.right = Node(\"C\")\r\n",
        "\r\n",
        "    #Izquierda\r\n",
        "    arbol2.left.left = Nodo(\"D\")\r\n",
        "    arbol2.left.right = Nodo(\"E\")\r\n",
        "\r\n",
        "    #Derecha\r\n",
        "    arbol2.right.right = Nodo(\"G\")\r\n",
        "    arbol2.right.left = Nodo(\"F\")\r\n",
        "    \r\n",
        "\r\n",
        "    o = buscar_nodo_mas_profundo()\r\n",
        "    print('Nodo de mayor altura:', o.nodo_mas_profundo(arbol2))\r\n",
        "\r\n",
        "\r\n",
        "\r\n",
        "    arbol3= Nodo(\"Naruto\")\r\n",
        "    arbol3.left = Nodo(\"Sasuke\")\r\n",
        "    arbol3.right = Node(\"Sakura\")\r\n",
        "\r\n",
        "    #Izquierda\r\n",
        "    arbol3.left.left = Nodo(\"Sarada\")\r\n",
        "    arbol3.left.right = Nodo(\"Madara\")\r\n",
        "\r\n",
        "    #Derecha\r\n",
        "    arbol3.right.left = Nodo(\"Hokage\")\r\n",
        "    \r\n",
        "\r\n",
        "    o = buscar_nodo_mas_profundo()\r\n",
        "    print('Nodo de mayor altura:', o.nodo_mas_profundo(arbol3))\r\n",
        "\r\n",
        "\r\n",
        "    arbol4= Nodo(\"OnePiece\")\r\n",
        "    arbol4.left = Nodo(\"Luffy\")\r\n",
        "    arbol4.right = Node(\"Zoro\")\r\n",
        "\r\n",
        "    #derecha\r\n",
        "    arbol4.right.right = Nodo(\"Ussop\")\r\n",
        "    arbol4.right.left = Nodo(\"Franky\")\r\n",
        "\r\n",
        "    \r\n",
        "\r\n",
        "    o = buscar_nodo_mas_profundo()\r\n",
        "    print('Nodo de mayor altura:', o.nodo_mas_profundo(arbol4))\r\n",
        "\r\n",
        "\r\n",
        "main()"
      ],
      "execution_count": 24,
      "outputs": [
        {
          "output_type": "stream",
          "text": [
            "Nodo de mayor altura: B\n",
            "Nodo de mayor altura: D\n",
            "Nodo de mayor altura: Sarada\n",
            "Nodo de mayor altura: Franky\n"
          ],
          "name": "stdout"
        }
      ]
    },
    {
      "cell_type": "code",
      "metadata": {
        "id": "Nfn78Tge01iX"
      },
      "source": [
        ""
      ],
      "execution_count": null,
      "outputs": []
    }
  ]
}