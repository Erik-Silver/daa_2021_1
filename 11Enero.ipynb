{
  "nbformat": 4,
  "nbformat_minor": 0,
  "metadata": {
    "colab": {
      "name": "11Enero.ipynb",
      "provenance": [],
      "collapsed_sections": [],
      "authorship_tag": "ABX9TyMh402l8ttxXNP4uQDtGrSK",
      "include_colab_link": true
    },
    "kernelspec": {
      "name": "python3",
      "display_name": "Python 3"
    }
  },
  "cells": [
    {
      "cell_type": "markdown",
      "metadata": {
        "id": "view-in-github",
        "colab_type": "text"
      },
      "source": [
        "<a href=\"https://colab.research.google.com/github/Erik-Silver/daa_2021_1/blob/master/11Enero.ipynb\" target=\"_parent\"><img src=\"https://colab.research.google.com/assets/colab-badge.svg\" alt=\"Open In Colab\"/></a>"
      ]
    },
    {
      "cell_type": "code",
      "metadata": {
        "id": "5W6prLHr5Q1X"
      },
      "source": [
        "class NodoArbol:\r\n",
        "  def __init__(self, value, left=None,right=None):\r\n",
        "    self.data = value\r\n",
        "    self.left = left\r\n",
        "    self.right = right"
      ],
      "execution_count": 7,
      "outputs": []
    },
    {
      "cell_type": "code",
      "metadata": {
        "id": "bNYtXo90-4d5"
      },
      "source": [
        "arbol = NodoArbol(\"R\",NodoArbol(\"C\"),NodoArbol(\"H\"))"
      ],
      "execution_count": 8,
      "outputs": []
    },
    {
      "cell_type": "code",
      "metadata": {
        "id": "kHWXkjWh_FE5"
      },
      "source": [
        "nodo1 = NodoArbol(\"C\")\r\n",
        "nodo2 = NodoArbol(\"H\")\r\n",
        "arbol_v2 = NodoArbol(\"R\",nodo1, nodo2)"
      ],
      "execution_count": 9,
      "outputs": []
    },
    {
      "cell_type": "code",
      "metadata": {
        "colab": {
          "base_uri": "https://localhost:8080/"
        },
        "id": "6tp2Z5EJ_lUa",
        "outputId": "5626b25f-38b0-4e26-defc-b4149a4a03fc"
      },
      "source": [
        "print(arbol.right.data)\r\n",
        "print(arbol_v2.right.data)"
      ],
      "execution_count": 11,
      "outputs": [
        {
          "output_type": "stream",
          "text": [
            "H\n",
            "H\n"
          ],
          "name": "stdout"
        }
      ]
    },
    {
      "cell_type": "code",
      "metadata": {
        "colab": {
          "base_uri": "https://localhost:8080/"
        },
        "id": "LSk71CAp_q63",
        "outputId": "41c4d805-67ad-43de-b221-2d7276a9475c"
      },
      "source": [
        "arbol2= NodoArbol(4,NodoArbol(3,NodoArbol(2,NodoArbol(2))),NodoArbol(5))\r\n",
        "print(arbol2.left.left.left.data)"
      ],
      "execution_count": 14,
      "outputs": [
        {
          "output_type": "stream",
          "text": [
            "2\n"
          ],
          "name": "stdout"
        }
      ]
    },
    {
      "cell_type": "code",
      "metadata": {
        "colab": {
          "base_uri": "https://localhost:8080/"
        },
        "id": "NtZqxmYMCAXV",
        "outputId": "32260085-7864-4d84-ae3c-c93dc37eb97b"
      },
      "source": [
        "aux = arbol2\r\n",
        "while aux.left != None:\r\n",
        "  aux = aux.left\r\n",
        "print(aux.data)"
      ],
      "execution_count": 15,
      "outputs": [
        {
          "output_type": "stream",
          "text": [
            "2\n"
          ],
          "name": "stdout"
        }
      ]
    },
    {
      "cell_type": "code",
      "metadata": {
        "colab": {
          "base_uri": "https://localhost:8080/"
        },
        "id": "1D4BUdv-E02I",
        "outputId": "35f1338b-0b54-46e2-f18d-1c343cbefba3"
      },
      "source": [
        "arbol3 = NodoArbol(\"santi\",None,NodoArbol(\"jesus\",NodoArbol(\"Pedro\",None,NodoArbol(\"diana\")),None))\r\n",
        "print(arbol3.right.left.right.data)"
      ],
      "execution_count": 18,
      "outputs": [
        {
          "output_type": "stream",
          "text": [
            "diana\n"
          ],
          "name": "stdout"
        }
      ]
    },
    {
      "cell_type": "code",
      "metadata": {
        "id": "nC4KkT3QGNZk"
      },
      "source": [
        "arbolBinario = NodoArbol(\"D\",NodoArbol(\"R\",NodoArbol(\"C\"),NodoArbol(\"H\")),NodoArbol(\"M\",NodoArbol(\"S\",NodoArbol(\"B\")),NodoArbol(\"A\",NodoArbol(\"J\"))))"
      ],
      "execution_count": 20,
      "outputs": []
    },
    {
      "cell_type": "code",
      "metadata": {
        "colab": {
          "base_uri": "https://localhost:8080/"
        },
        "id": "EWts6ix3H3cn",
        "outputId": "db2b80ef-636d-4775-bb45-218e3d9f8ab6"
      },
      "source": [
        "aux = arbolBinario\r\n",
        "aux2 = arbolBinario\r\n",
        "while aux.left and aux2 != None:\r\n",
        "  aux = aux.left\r\n",
        "  aux2 = aux2.right\r\n",
        "print(f\"{aux.data}  {aux2.data}\")"
      ],
      "execution_count": 22,
      "outputs": [
        {
          "output_type": "stream",
          "text": [
            "C  A\n"
          ],
          "name": "stdout"
        }
      ]
    },
    {
      "cell_type": "code",
      "metadata": {
        "id": "fwLh4RS5Id_k"
      },
      "source": [
        ""
      ],
      "execution_count": null,
      "outputs": []
    }
  ]
}