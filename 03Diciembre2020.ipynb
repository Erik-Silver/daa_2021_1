{
  "nbformat": 4,
  "nbformat_minor": 0,
  "metadata": {
    "colab": {
      "name": "03Diciembre2020.ipynb",
      "provenance": [],
      "authorship_tag": "ABX9TyMwum1X1fKrSKx3W7EQrz5C",
      "include_colab_link": true
    },
    "kernelspec": {
      "name": "python3",
      "display_name": "Python 3"
    }
  },
  "cells": [
    {
      "cell_type": "markdown",
      "metadata": {
        "id": "view-in-github",
        "colab_type": "text"
      },
      "source": [
        "<a href=\"https://colab.research.google.com/github/Erik-Silver/daa_2021_1/blob/master/03Diciembre2020.ipynb\" target=\"_parent\"><img src=\"https://colab.research.google.com/assets/colab-badge.svg\" alt=\"Open In Colab\"/></a>"
      ]
    },
    {
      "cell_type": "code",
      "metadata": {
        "id": "xcJibCLFZ3wa"
      },
      "source": [
        "\"\"\"\n",
        "1. Crear una lista de enteros en Python y realizar la suma con recursividad, el caso base es cuando la lista este vacía.\n",
        "2. Hacer un contador regresivo con recursión.\n",
        "3. Sacar de un ADT pila el valor en la posición media.\n",
        "\"\"\"\n",
        "\n",
        "import time\n",
        "\n",
        "\"\"\" 1 \"\"\"\n",
        "def sumaEnteros(lista, indice=0):\n",
        "    if indice == len(lista):# solo asi pude resolver este programa \n",
        "        return 0\n",
        "    else:\n",
        "        return lista[indice] + sumaEnteros(lista, indice + 1) \n",
        "\n",
        "\n",
        "\"\"\" 2 \"\"\"\n",
        "def bomba(t):\n",
        "    if t ==0: # caso base\n",
        "        print(\"Booom\")\n",
        "        return 0\n",
        "    else:\n",
        "        time.sleep(1)\n",
        "        print(f\"00:00:{t}\")\n",
        "        bomba(t-1)\n",
        "    \n",
        "\n",
        "\n",
        "\n",
        "\"\"\" 3 \"\"\"\n",
        "def pila(lista):\n",
        "    if len(lista) <=2:\n",
        "        return 0\n",
        "    else:\n",
        "        posicion = len(lista) // 2\n",
        "        lista.pop(posicion)\n",
        "        print(lista)\n",
        "        pila(lista)\n",
        "    "
      ],
      "execution_count": 4,
      "outputs": []
    },
    {
      "cell_type": "code",
      "metadata": {
        "colab": {
          "base_uri": "https://localhost:8080/"
        },
        "id": "ZDKNE6snaYcm",
        "outputId": "e88a4376-0a3c-446f-cf12-e8a467ad5ee3"
      },
      "source": [
        "def main():\n",
        "    lista = [1,2,3,4,5]\n",
        "    \n",
        "    print(f\"la suma de los elementos de la lista es: {sumaEnteros(lista)}\")\n",
        "    print(\"\\n\")\n",
        "    bomba(5)\n",
        "    print(\"\\n\")\n",
        "    pila(lista)\n",
        "    \n",
        "    \n",
        "    \n",
        "main()\n",
        "    "
      ],
      "execution_count": 5,
      "outputs": [
        {
          "output_type": "stream",
          "text": [
            "la suma de los elementos de la lista es: 15\n",
            "\n",
            "\n",
            "00:00:5\n",
            "00:00:4\n",
            "00:00:3\n",
            "00:00:2\n",
            "00:00:1\n",
            "Booom\n",
            "\n",
            "\n",
            "[1, 2, 4, 5]\n",
            "[1, 2, 5]\n",
            "[1, 5]\n"
          ],
          "name": "stdout"
        }
      ]
    },
    {
      "cell_type": "code",
      "metadata": {
        "id": "eg72DzKaabe_"
      },
      "source": [
        ""
      ],
      "execution_count": null,
      "outputs": []
    }
  ]
}